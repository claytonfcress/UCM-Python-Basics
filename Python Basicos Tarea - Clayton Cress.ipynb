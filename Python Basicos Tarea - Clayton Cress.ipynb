{
 "cells": [
  {
   "cell_type": "markdown",
   "id": "d61bb92a",
   "metadata": {},
   "source": [
    "# TAREA CURSO PYTHON"
   ]
  },
  {
   "cell_type": "markdown",
   "id": "58f74543",
   "metadata": {},
   "source": [
    "### Escriba una unica solución para cada ejercicio planteado, guarde el fichero y súbalo a la plataforma.\n",
    "### Si la solución cumple lo que el enunciado pide se considera superada, optar a la máxima nota supondrá además utilizar en cada caso la solución más eficiente y el uso de funciones cuando sea posible."
   ]
  },
  {
   "cell_type": "markdown",
   "id": "7ef92ba6",
   "metadata": {},
   "source": [
    "# EJERCICIO 1"
   ]
  },
  {
   "cell_type": "markdown",
   "id": "6be07813",
   "metadata": {},
   "source": [
    "### Cree una lista de 100 números aleatorios entre 1 y 100. Muéstrela tal como se ha generado, despues muestrela ordenada de menor a mayor."
   ]
  },
  {
   "cell_type": "code",
   "execution_count": 9,
   "id": "b01e27a1",
   "metadata": {},
   "outputs": [
    {
     "name": "stdout",
     "output_type": "stream",
     "text": [
      "[1, 4, 4, 6, 6, 7, 9, 9, 9, 10, 11, 11, 12, 13, 14, 14, 14, 15, 16, 16, 17, 17, 17, 18, 19, 19, 20, 20, 22, 22, 23, 25, 25, 27, 28, 30, 35, 37, 37, 38, 40, 40, 42, 43, 44, 48, 48, 49, 52, 53, 53, 55, 55, 58, 59, 60, 63, 65, 65, 66, 66, 67, 67, 67, 67, 67, 68, 70, 71, 71, 71, 72, 73, 74, 75, 75, 75, 77, 78, 78, 78, 80, 81, 83, 85, 87, 87, 87, 88, 88, 89, 90, 90, 90, 91, 91, 93, 93, 95, 96]\n"
     ]
    }
   ],
   "source": [
    "import random\n",
    "numeros = []\n",
    "for i in range(100):\n",
    "    numeros.append(random.randint(1,100))\n",
    "\n",
    "def ordenar(numeros):\n",
    "    for i in range(len(numeros)):\n",
    "        for ii in range(len(numeros)-1):\n",
    "            if numeros[ii]>numeros[ii+1]:\n",
    "                Intercambio=numeros[ii+1]\n",
    "                numeros[ii+1]=numeros[ii]\n",
    "                numeros[ii]=Intercambio\n",
    "    return numeros\n",
    "\n",
    "if __name__ =='__main__':\n",
    "    ordenar(numeros)\n"
   ]
  },
  {
   "cell_type": "markdown",
   "id": "abcae49f",
   "metadata": {},
   "source": [
    "# EJERCICIO 2"
   ]
  },
  {
   "cell_type": "markdown",
   "id": "d0df5666",
   "metadata": {},
   "source": [
    "### Realizamos un programa que gestione la lista anterior (desordenada) con las siguientes opciones:\n",
    "### 1.\tAñadir número a la lista\n",
    "### 2.\tEliminar numero según su posición\n",
    "### 3.\tVisualizar número según su posición\n",
    "### 4.\tOrdernar los números (se puede utilizar la función realizada en el ejercicio anterior)\n",
    "### 5.  Visualizar lista\n",
    "### 6.\tAñadir la lista al final del fichero c:\\EjerciciosPython\\Tarea.xlsx\n",
    "### 7.\tSalir\n"
   ]
  },
  {
   "cell_type": "code",
   "execution_count": 20,
   "id": "47acce7e",
   "metadata": {},
   "outputs": [
    {
     "name": "stdout",
     "output_type": "stream",
     "text": [
      "Opción 1: Añadir número a la lista\n",
      "Opción 2: Eliminar numero según su posición\n",
      "Opción 3: Visualizar número según su posición\n",
      "Opción 4: Ordernar los números\n",
      "Opción 5: Visualizar lista\n",
      "Opción 6: Añadir la lista al final del fichero c:\\EjerciciosPython\\Tarea.xlsx\n",
      "Opción 7: Salir\n",
      "Introduce una opcion: 7\n",
      "[1, 4, 4, 6, 6, 7, 9, 9, 9, 10, 11, 11, 12, 13, 14, 14, 14, 15, 16, 16, 17, 17, 17, 18, 19, 19, 20, 20, 22, 22, 23, 25, 25, 27, 28, 30, 35, 37, 37, 38, 40, 40, 42, 43, 44, 48, 48, 49, 52, 53, 53, 55, 55, 58, 59, 60, 63, 65, 65, 66, 66, 67, 67, 67, 67, 67, 68, 70, 71, 71, 71, 72, 73, 74, 75, 75, 75, 77, 78, 78, 78, 80, 81, 83, 85, 87, 87, 87, 88, 88, 89, 90, 90, 90, 91, 91, 93, 93, 95, 96]\n"
     ]
    }
   ],
   "source": [
    "def añadir(numeros):\n",
    "    nuevo=int(input(\"Introduce un número: \"))\n",
    "    numeros.append(nuevo)\n",
    "    return numeros\n",
    "\n",
    "def eliminar(numeros):\n",
    "    posicion=int(input(\"Introduce una posición: \"))\n",
    "    while posicion > (len(numeros)-1) or posicion <0:\n",
    "        posicion=int(input(\"Fuera de rango. Introduce otra posición: \"))\n",
    "    else:\n",
    "        del numeros[posicion]\n",
    "        return numeros\n",
    "\n",
    "def visualizar(numeros):\n",
    "    posicion = int(input(\"Introduce una posición: \"))\n",
    "    while posicion > (len(numeros)-1) or posicion <0:\n",
    "        posicion=int(input(\"Fuera de rango. Introduce otra posición: \"))\n",
    "    else:\n",
    "        return print(numeros[posicion])\n",
    "\n",
    "def ordenar(numeros):\n",
    "    for i in range(len(numeros)):\n",
    "        for ii in range(len(numeros)-1):\n",
    "            if numeros[ii]>numeros[ii+1]:\n",
    "                Intercambio=numeros[ii+1]\n",
    "                numeros[ii+1]=numeros[ii]\n",
    "                numeros[ii]=Intercambio\n",
    "    return numeros\n",
    "\n",
    "def visualizar_lista(numeros):\n",
    "    return print(numeros)\n",
    "\n",
    "def guardar_excel(numeros):\n",
    "    import openpyxl\n",
    "    excel_document=openpyxl.load_workbook('C:\\\\EjerciciosPython\\\\Tarea.xlsx')\n",
    "    Hoja = excel_document['Numeros']\n",
    "    Hoja.append(numeros)\n",
    "    excel_document.save('C:\\\\EjerciciosPython\\\\Tarea.xlsx')\n",
    "\n",
    "def menu():\n",
    "    print(\"Opción 1: Añadir número a la lista\")\n",
    "    print(\"Opción 2: Eliminar numero según su posición\")\n",
    "    print(\"Opción 3: Visualizar número según su posición\") \n",
    "    print(\"Opción 4: Ordernar los números\")\n",
    "    print(\"Opción 5: Visualizar lista\") \n",
    "    print(\"Opción 6: Añadir la lista al final del fichero c:\\EjerciciosPython\\Tarea.xlsx\")\n",
    "    print(\"Opción 7: Salir\")\n",
    "\n",
    "    \n",
    "def validar(minimo, maximo):\n",
    "    opcion = 0\n",
    "    while opcion<minimo or opcion > maximo:\n",
    "        opcion = int(input(\"Introduce una opcion: \"))\n",
    "    return opcion\n",
    "        \n",
    "def gestionar(numeros):\n",
    "    menu()\n",
    "    opcion = validar(1,7)\n",
    "    while opcion !=7:\n",
    "        if opcion == 1:\n",
    "            añadir(numeros)\n",
    "        elif opcion == 2:\n",
    "            eliminar(numeros)\n",
    "        elif opcion ==3:\n",
    "            visualizar(numeros)\n",
    "        elif opcion ==4:\n",
    "            ordenar(numeros)\n",
    "        elif opcion ==5:\n",
    "            visualizar_lista(numeros)\n",
    "        elif opcion==6:\n",
    "            guardar_excel(numeros)\n",
    "        opcion = validar(1,7)\n",
    "    print(numeros)\n",
    "\n",
    "if __name__ == '__main__':\n",
    "    gestionar(numeros)\n"
   ]
  },
  {
   "cell_type": "markdown",
   "id": "86cbbe10",
   "metadata": {},
   "source": [
    "# EJERCICIO 3"
   ]
  },
  {
   "cell_type": "markdown",
   "id": "6267976f",
   "metadata": {},
   "source": [
    "### Crear una estructura que almacene el nombre, apellido, email, teléfono y nota de 10 alumnos. Mostrar gráficamente el número de aprobados y suspensos."
   ]
  },
  {
   "cell_type": "code",
   "execution_count": null,
   "id": "3e458612",
   "metadata": {},
   "outputs": [],
   "source": [
    "alumnos = {}\n",
    "contador=1\n",
    "while contador<11:\n",
    "    nombre=input(\"Introduce el nombre del alumno {}: \".format(contador))\n",
    "    apellido=input(\"Introduce el apellido de {}: \".format(nombre))\n",
    "    email=input(\"Introduce el email de {}: \".format(nombre))\n",
    "    teléfono=input(\"Introduce el teléfono de {}: \".format(nombre))\n",
    "    nota=int(input(\"Introduce la nota de {}: \".format(nombre)))\n",
    "    alumnos[contador]={'nombre':nombre,'apellido':apellido,'email':email,'teléfono':teléfono,'nota':nota}\n",
    "    contador=contador+1\n",
    "print(alumnos)\n",
    "\n",
    "import matplotlib.pyplot as grafico\n",
    "aprobados=0\n",
    "suspensos=0\n",
    "for alumno in alumnos:\n",
    "    if alumnos[alumno]['nota']>=5: \n",
    "        aprobados=aprobados+1\n",
    "    else:\n",
    "        suspensos=suspensos+1\n",
    "print(\"Hay \" + str(aprobados)+ \" aprobados y \"+str(suspensos)+\" suspensos\")\n",
    "x=[\"aprobados\",\"suspensos\"]\n",
    "y=[aprobados, suspensos]\n",
    "grafico.bar(x,y)\n",
    "grafico.show()"
   ]
  },
  {
   "cell_type": "markdown",
   "id": "94ceb45b",
   "metadata": {},
   "source": [
    "# EJERCICIO 4"
   ]
  },
  {
   "cell_type": "markdown",
   "id": "31412bab",
   "metadata": {},
   "source": [
    "### Dada una lista con 10 palabras, se crea otra estructura (elegir lista o tupla) con esas 10 palabras donde cada palabra esté escrita al revés. Por ejemplo, la palabra \"casa\" estará escrita como \"asac\"."
   ]
  },
  {
   "cell_type": "code",
   "execution_count": null,
   "id": "497b5e6e",
   "metadata": {},
   "outputs": [],
   "source": [
    "def invertir(original:str):\n",
    "    inversa=\"\"\n",
    "    for i in original:\n",
    "        inversa = i + inversa\n",
    "    return inversa\n",
    "\n",
    "lista_original=[]\n",
    "lista_inversa=[]\n",
    "for palabra in range(10):\n",
    "    palabra = str(input())\n",
    "    lista_original.append(palabra)\n",
    "\n",
    "print(lista_original)\n",
    "for i in lista_original:\n",
    "    inverse=invertir(i)\n",
    "    lista_inversa.append(inverse)\n",
    "print(lista_inversa)\n"
   ]
  }
 ],
 "metadata": {
  "kernelspec": {
   "display_name": "Python 3 (ipykernel)",
   "language": "python",
   "name": "python3"
  },
  "language_info": {
   "codemirror_mode": {
    "name": "ipython",
    "version": 3
   },
   "file_extension": ".py",
   "mimetype": "text/x-python",
   "name": "python",
   "nbconvert_exporter": "python",
   "pygments_lexer": "ipython3",
   "version": "3.11.5"
  }
 },
 "nbformat": 4,
 "nbformat_minor": 5
}
